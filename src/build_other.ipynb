{
 "cells": [
  {
   "cell_type": "code",
   "execution_count": 47,
   "metadata": {},
   "outputs": [
    {
     "name": "stdout",
     "output_type": "stream",
     "text": [
      "The autoreload extension is already loaded. To reload it, use:\n",
      "  %reload_ext autoreload\n"
     ]
    }
   ],
   "source": [
    "%load_ext autoreload\n",
    "%autoreload 2"
   ]
  },
  {
   "cell_type": "code",
   "execution_count": 48,
   "metadata": {},
   "outputs": [],
   "source": [
    "import os\n",
    "import shutil\n",
    "from pathlib import Path"
   ]
  },
  {
   "cell_type": "code",
   "execution_count": 49,
   "metadata": {},
   "outputs": [],
   "source": [
    "from modules.dataset import FLAVIA_DIR, UNIQUE_FLAVIA_PLANTS, DATASET_AUGMENTED_DIR"
   ]
  },
  {
   "cell_type": "code",
   "execution_count": 50,
   "metadata": {},
   "outputs": [
    {
     "data": {
      "text/plain": [
       "['Acer buergerianum Miq',\n",
       " 'Acer Palmatum',\n",
       " 'Aesculus chinensis',\n",
       " 'Berberis anhweiensis Ahrendt',\n",
       " 'Cedrus deodara (Roxb.) G. Don',\n",
       " 'Cercis chinensis',\n",
       " 'Chimonanthus praecox L',\n",
       " 'Cinnamomum camphora (L.) J. Presl',\n",
       " 'Cinnamomum japonicum Sieb',\n",
       " 'Citrus reticulata Blanco',\n",
       " 'Ginkgo biloba L',\n",
       " 'Ilex macrocarpa Oliv',\n",
       " 'Indigofera tinctoria L',\n",
       " 'Kalopanax septemlobus (Thunb. ex A.Murr.) Koidz',\n",
       " 'Koelreuteria paniculata Laxm',\n",
       " 'Lagerstroemia indica (L.) Pers',\n",
       " 'Ligustrum lucidum Ait. f',\n",
       " 'Liriodendron chinense (Hemsl.) Sarg',\n",
       " 'Magnolia grandiflora L',\n",
       " 'Mahonia bealei (Fortune) Carr',\n",
       " 'Manglietia fordiana Oliv',\n",
       " 'Nerium oleander L',\n",
       " 'Osmanthus fragrans Lour',\n",
       " 'Phoebe nanmu (Oliv.) Gamble',\n",
       " 'Phyllostachys edulis (Carr.) Houz',\n",
       " 'Pittosporum tobira (Thunb.) Ait. f',\n",
       " 'Podocarpus macrophyllus (Thunb.) Sweet',\n",
       " 'Populus ×canadensis Moench',\n",
       " 'Prunus persica (L.) Batsch',\n",
       " 'Prunus serrulata Lindl. var. lannesiana auct',\n",
       " 'Tonna sinensis M. Roem',\n",
       " 'Viburnum awabuki K.Koch']"
      ]
     },
     "execution_count": 50,
     "metadata": {},
     "output_type": "execute_result"
    }
   ],
   "source": [
    "os.listdir(FLAVIA_DIR)"
   ]
  },
  {
   "cell_type": "code",
   "execution_count": 51,
   "metadata": {},
   "outputs": [
    {
     "name": "stdout",
     "output_type": "stream",
     "text": [
      "Number of Unique Plants:  32\n",
      "Unique Plants:  {'Ligustrum lucidum Ait. f', 'Acer Palmatum', 'Acer buergerianum Miq', 'Viburnum awabuki K.Koch', 'Phoebe nanmu (Oliv.) Gamble', 'Pittosporum tobira (Thunb.) Ait. f', 'Indigofera tinctoria L', 'Nerium oleander L', 'Ilex macrocarpa Oliv', 'Mahonia bealei (Fortune) Carr', 'Populus ×canadensis Moench', 'Podocarpus macrophyllus (Thunb.) Sweet', 'Phyllostachys edulis (Carr.) Houz', 'Aesculus chinensis', 'Citrus reticulata Blanco', 'Prunus serrulata Lindl. var. lannesiana auct', 'Ginkgo biloba L', 'Prunus persica (L.) Batsch', 'Liriodendron chinense (Hemsl.) Sarg', 'Cinnamomum camphora (L.) J. Presl', 'Manglietia fordiana Oliv', 'Magnolia grandiflora L', 'Osmanthus fragrans Lour', 'Kalopanax septemlobus (Thunb. ex A.Murr.) Koidz', 'Chimonanthus praecox L', 'Berberis anhweiensis Ahrendt', 'Koelreuteria paniculata Laxm', 'Tonna sinensis M. Roem', 'Cinnamomum japonicum Sieb', 'Cedrus deodara (Roxb.) G. Don', 'Lagerstroemia indica (L.) Pers', 'Cercis chinensis'}\n"
     ]
    }
   ],
   "source": [
    "print(\"Number of Unique Plants: \", len(UNIQUE_FLAVIA_PLANTS))\n",
    "print(\"Unique Plants: \", UNIQUE_FLAVIA_PLANTS)"
   ]
  },
  {
   "cell_type": "code",
   "execution_count": 52,
   "metadata": {},
   "outputs": [
    {
     "name": "stdout",
     "output_type": "stream",
     "text": [
      "1   Acer buergerianum Miq                              53\n",
      "2   Acer Palmatum                                      56\n",
      "3   Aesculus chinensis                                 63\n",
      "4   Berberis anhweiensis Ahrendt                       65\n",
      "5   Cedrus deodara (Roxb.) G. Don                      77\n",
      "6   Cercis chinensis                                   72\n",
      "7   Chimonanthus praecox L                             52\n",
      "8   Cinnamomum camphora (L.) J. Presl                  65\n",
      "9   Cinnamomum japonicum Sieb                          55\n",
      "10  Citrus reticulata Blanco                           56\n",
      "11  Ginkgo biloba L                                    62\n",
      "12  Ilex macrocarpa Oliv                               50\n",
      "13  Indigofera tinctoria L                             73\n",
      "14  Kalopanax septemlobus (Thunb. ex A.Murr.) Koidz    52\n",
      "15  Koelreuteria paniculata Laxm                       59\n",
      "16  Lagerstroemia indica (L.) Pers                     61\n",
      "17  Ligustrum lucidum Ait. f                           55\n",
      "18  Liriodendron chinense (Hemsl.) Sarg                53\n",
      "19  Magnolia grandiflora L                             57\n",
      "20  Mahonia bealei (Fortune) Carr                      55\n",
      "21  Manglietia fordiana Oliv                           52\n",
      "22  Nerium oleander L                                  66\n",
      "23  Osmanthus fragrans Lour                            56\n",
      "24  Phoebe nanmu (Oliv.) Gamble                        62\n",
      "25  Phyllostachys edulis (Carr.) Houz                  59\n",
      "26  Pittosporum tobira (Thunb.) Ait. f                 63\n",
      "27  Podocarpus macrophyllus (Thunb.) Sweet             60\n",
      "28  Populus ×canadensis Moench                         64\n",
      "29  Prunus persica (L.) Batsch                         54\n",
      "30  Prunus serrulata Lindl. var. lannesiana auct       55\n",
      "31  Tonna sinensis M. Roem                             65\n",
      "32  Viburnum awabuki K.Koch                            60\n"
     ]
    }
   ],
   "source": [
    "selected_plants: dict[str, list[Path]] = {}\n",
    "\n",
    "total = 0\n",
    "for idx, plant in enumerate(FLAVIA_DIR.glob(\"*\"), start=1):\n",
    "    plant_name = plant.name\n",
    "    plants = list(plant.glob(\"*\"))\n",
    "    num_plants = len(plants)\n",
    "\n",
    "    num = 50 if idx > 10 else 51\n",
    "    selected_plants[plant_name] = plants[:num]\n",
    "\n",
    "    print(f\"{idx:<3} {plant_name:<50} {num_plants}\")\n",
    "    total += num_plants"
   ]
  },
  {
   "cell_type": "code",
   "execution_count": 53,
   "metadata": {},
   "outputs": [
    {
     "data": {
      "text/plain": [
       "1907"
      ]
     },
     "execution_count": 53,
     "metadata": {},
     "output_type": "execute_result"
    }
   ],
   "source": [
    "total "
   ]
  },
  {
   "cell_type": "code",
   "execution_count": 54,
   "metadata": {},
   "outputs": [
    {
     "data": {
      "text/plain": [
       "1610"
      ]
     },
     "execution_count": 54,
     "metadata": {},
     "output_type": "execute_result"
    }
   ],
   "source": [
    "selected_plants_list = [x for i in selected_plants.values() for x in i]\n",
    "len(selected_plants_list)"
   ]
  },
  {
   "cell_type": "code",
   "execution_count": 57,
   "metadata": {},
   "outputs": [],
   "source": [
    "OTHER_DIR = DATASET_AUGMENTED_DIR / \"Z\"\n",
    "\n",
    "for plant in selected_plants_list:\n",
    "    shutil.copy(plant, OTHER_DIR)"
   ]
  }
 ],
 "metadata": {
  "kernelspec": {
   "display_name": ".venv",
   "language": "python",
   "name": "python3"
  },
  "language_info": {
   "codemirror_mode": {
    "name": "ipython",
    "version": 3
   },
   "file_extension": ".py",
   "mimetype": "text/x-python",
   "name": "python",
   "nbconvert_exporter": "python",
   "pygments_lexer": "ipython3",
   "version": "3.12.3"
  }
 },
 "nbformat": 4,
 "nbformat_minor": 2
}
