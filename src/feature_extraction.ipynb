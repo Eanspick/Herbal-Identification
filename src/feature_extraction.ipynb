{
 "cells": [
  {
   "cell_type": "markdown",
   "metadata": {},
   "source": [
    "# Preprocess and Feature Extraction\n",
    "\n",
    "Extracted features are saved in file named \"augmented_features.csv\"\n"
   ]
  },
  {
   "cell_type": "code",
   "execution_count": 59,
   "metadata": {},
   "outputs": [
    {
     "name": "stdout",
     "output_type": "stream",
     "text": [
      "The autoreload extension is already loaded. To reload it, use:\n",
      "  %reload_ext autoreload\n"
     ]
    }
   ],
   "source": [
    "%load_ext autoreload\n",
    "%autoreload 2"
   ]
  },
  {
   "cell_type": "code",
   "execution_count": 60,
   "metadata": {},
   "outputs": [],
   "source": [
    "import os\n",
    "from pathlib import Path"
   ]
  },
  {
   "cell_type": "code",
   "execution_count": 61,
   "metadata": {},
   "outputs": [],
   "source": [
    "from modules.dataset import DATASET_AUGMENTED_DIR, UNIQUE_PLANTS, DATASET_DIR"
   ]
  },
  {
   "cell_type": "code",
   "execution_count": 62,
   "metadata": {},
   "outputs": [
    {
     "data": {
      "text/plain": [
       "['Arjun Leaf',\n",
       " 'Curry Leaf',\n",
       " 'Marsh Pennywort Leaf',\n",
       " 'Mint Leaf',\n",
       " 'Neem Leaf',\n",
       " 'Rubble Leaf']"
      ]
     },
     "execution_count": 62,
     "metadata": {},
     "output_type": "execute_result"
    }
   ],
   "source": [
    "os.listdir(DATASET_AUGMENTED_DIR)"
   ]
  },
  {
   "cell_type": "code",
   "execution_count": 63,
   "metadata": {},
   "outputs": [],
   "source": [
    "from itertools import repeat\n",
    "\n",
    "DATASET_RAW: list[tuple[int, Path]] = []\n",
    "\n",
    "for plant_class in DATASET_AUGMENTED_DIR.glob(\"*\"):\n",
    "    index = UNIQUE_PLANTS.index(plant_class.name)\n",
    "    DATASET_RAW.extend(list(zip(repeat(index), plant_class.glob(\"*\"))))"
   ]
  },
  {
   "cell_type": "code",
   "execution_count": 64,
   "metadata": {},
   "outputs": [],
   "source": [
    "from modules.preprocess import create_dataset\n",
    "\n",
    "\n",
    "DATASET = create_dataset(DATASET_RAW)"
   ]
  },
  {
   "cell_type": "code",
   "execution_count": 65,
   "metadata": {},
   "outputs": [
    {
     "data": {
      "text/html": [
       "<div>\n",
       "<style scoped>\n",
       "    .dataframe tbody tr th:only-of-type {\n",
       "        vertical-align: middle;\n",
       "    }\n",
       "\n",
       "    .dataframe tbody tr th {\n",
       "        vertical-align: top;\n",
       "    }\n",
       "\n",
       "    .dataframe thead th {\n",
       "        text-align: right;\n",
       "    }\n",
       "</style>\n",
       "<table border=\"1\" class=\"dataframe\">\n",
       "  <thead>\n",
       "    <tr style=\"text-align: right;\">\n",
       "      <th></th>\n",
       "      <th>class</th>\n",
       "      <th>area</th>\n",
       "      <th>perimeter</th>\n",
       "      <th>physiological_length</th>\n",
       "      <th>physiological_width</th>\n",
       "      <th>aspect_ratio</th>\n",
       "      <th>rectangularity</th>\n",
       "      <th>circularity</th>\n",
       "      <th>mean_r</th>\n",
       "      <th>mean_g</th>\n",
       "      <th>mean_b</th>\n",
       "      <th>stddev_r</th>\n",
       "      <th>stddev_g</th>\n",
       "      <th>stddev_b</th>\n",
       "      <th>contrast</th>\n",
       "      <th>correlation</th>\n",
       "      <th>inverse_difference_moments</th>\n",
       "      <th>entropy</th>\n",
       "    </tr>\n",
       "  </thead>\n",
       "  <tbody>\n",
       "    <tr>\n",
       "      <th>0</th>\n",
       "      <td>0</td>\n",
       "      <td>81690.0</td>\n",
       "      <td>1277.342270</td>\n",
       "      <td>450</td>\n",
       "      <td>309</td>\n",
       "      <td>1.456311</td>\n",
       "      <td>1.702167</td>\n",
       "      <td>19.973109</td>\n",
       "      <td>6.925560</td>\n",
       "      <td>31.587982</td>\n",
       "      <td>29.184814</td>\n",
       "      <td>15.468362</td>\n",
       "      <td>47.869561</td>\n",
       "      <td>44.183883</td>\n",
       "      <td>60.740968</td>\n",
       "      <td>0.995712</td>\n",
       "      <td>0.774605</td>\n",
       "      <td>4.171291</td>\n",
       "    </tr>\n",
       "    <tr>\n",
       "      <th>1</th>\n",
       "      <td>0</td>\n",
       "      <td>63153.5</td>\n",
       "      <td>1044.222432</td>\n",
       "      <td>299</td>\n",
       "      <td>308</td>\n",
       "      <td>0.970779</td>\n",
       "      <td>1.458225</td>\n",
       "      <td>17.265876</td>\n",
       "      <td>6.848106</td>\n",
       "      <td>25.506371</td>\n",
       "      <td>22.970722</td>\n",
       "      <td>17.710073</td>\n",
       "      <td>46.507536</td>\n",
       "      <td>42.232369</td>\n",
       "      <td>39.881938</td>\n",
       "      <td>0.996515</td>\n",
       "      <td>0.820804</td>\n",
       "      <td>3.418993</td>\n",
       "    </tr>\n",
       "    <tr>\n",
       "      <th>2</th>\n",
       "      <td>0</td>\n",
       "      <td>41843.5</td>\n",
       "      <td>853.501652</td>\n",
       "      <td>252</td>\n",
       "      <td>286</td>\n",
       "      <td>0.881119</td>\n",
       "      <td>1.722418</td>\n",
       "      <td>17.409277</td>\n",
       "      <td>2.912521</td>\n",
       "      <td>12.617157</td>\n",
       "      <td>10.977451</td>\n",
       "      <td>10.319894</td>\n",
       "      <td>29.424418</td>\n",
       "      <td>25.927050</td>\n",
       "      <td>55.686564</td>\n",
       "      <td>0.994731</td>\n",
       "      <td>0.878485</td>\n",
       "      <td>2.259380</td>\n",
       "    </tr>\n",
       "    <tr>\n",
       "      <th>3</th>\n",
       "      <td>0</td>\n",
       "      <td>80628.0</td>\n",
       "      <td>1278.974738</td>\n",
       "      <td>290</td>\n",
       "      <td>454</td>\n",
       "      <td>0.638767</td>\n",
       "      <td>1.632931</td>\n",
       "      <td>20.287944</td>\n",
       "      <td>10.396645</td>\n",
       "      <td>38.379745</td>\n",
       "      <td>35.732914</td>\n",
       "      <td>22.381693</td>\n",
       "      <td>58.257929</td>\n",
       "      <td>54.856295</td>\n",
       "      <td>55.004693</td>\n",
       "      <td>0.995141</td>\n",
       "      <td>0.760100</td>\n",
       "      <td>4.323801</td>\n",
       "    </tr>\n",
       "    <tr>\n",
       "      <th>4</th>\n",
       "      <td>0</td>\n",
       "      <td>46671.0</td>\n",
       "      <td>902.406198</td>\n",
       "      <td>341</td>\n",
       "      <td>203</td>\n",
       "      <td>1.679803</td>\n",
       "      <td>1.483212</td>\n",
       "      <td>17.448457</td>\n",
       "      <td>3.500469</td>\n",
       "      <td>15.638309</td>\n",
       "      <td>13.594090</td>\n",
       "      <td>11.254004</td>\n",
       "      <td>34.050646</td>\n",
       "      <td>29.957801</td>\n",
       "      <td>58.365800</td>\n",
       "      <td>0.994608</td>\n",
       "      <td>0.859541</td>\n",
       "      <td>2.556000</td>\n",
       "    </tr>\n",
       "  </tbody>\n",
       "</table>\n",
       "</div>"
      ],
      "text/plain": [
       "   class     area    perimeter  physiological_length  physiological_width  \\\n",
       "0      0  81690.0  1277.342270                   450                  309   \n",
       "1      0  63153.5  1044.222432                   299                  308   \n",
       "2      0  41843.5   853.501652                   252                  286   \n",
       "3      0  80628.0  1278.974738                   290                  454   \n",
       "4      0  46671.0   902.406198                   341                  203   \n",
       "\n",
       "   aspect_ratio  rectangularity  circularity     mean_r     mean_g     mean_b  \\\n",
       "0      1.456311        1.702167    19.973109   6.925560  31.587982  29.184814   \n",
       "1      0.970779        1.458225    17.265876   6.848106  25.506371  22.970722   \n",
       "2      0.881119        1.722418    17.409277   2.912521  12.617157  10.977451   \n",
       "3      0.638767        1.632931    20.287944  10.396645  38.379745  35.732914   \n",
       "4      1.679803        1.483212    17.448457   3.500469  15.638309  13.594090   \n",
       "\n",
       "    stddev_r   stddev_g   stddev_b   contrast  correlation  \\\n",
       "0  15.468362  47.869561  44.183883  60.740968     0.995712   \n",
       "1  17.710073  46.507536  42.232369  39.881938     0.996515   \n",
       "2  10.319894  29.424418  25.927050  55.686564     0.994731   \n",
       "3  22.381693  58.257929  54.856295  55.004693     0.995141   \n",
       "4  11.254004  34.050646  29.957801  58.365800     0.994608   \n",
       "\n",
       "   inverse_difference_moments   entropy  \n",
       "0                    0.774605  4.171291  \n",
       "1                    0.820804  3.418993  \n",
       "2                    0.878485  2.259380  \n",
       "3                    0.760100  4.323801  \n",
       "4                    0.859541  2.556000  "
      ]
     },
     "execution_count": 65,
     "metadata": {},
     "output_type": "execute_result"
    }
   ],
   "source": [
    "DATASET.head(5)"
   ]
  },
  {
   "cell_type": "code",
   "execution_count": 66,
   "metadata": {},
   "outputs": [
    {
     "data": {
      "text/plain": [
       "(9660, 18)"
      ]
     },
     "execution_count": 66,
     "metadata": {},
     "output_type": "execute_result"
    }
   ],
   "source": [
    "DATASET.shape"
   ]
  },
  {
   "cell_type": "code",
   "execution_count": 67,
   "metadata": {},
   "outputs": [],
   "source": [
    "DATASET.to_csv(DATASET_DIR / \"augmented_features.csv\")"
   ]
  }
 ],
 "metadata": {
  "kernelspec": {
   "display_name": ".venv",
   "language": "python",
   "name": "python3"
  },
  "language_info": {
   "codemirror_mode": {
    "name": "ipython",
    "version": 3
   },
   "file_extension": ".py",
   "mimetype": "text/x-python",
   "name": "python",
   "nbconvert_exporter": "python",
   "pygments_lexer": "ipython3",
   "version": "3.12.3"
  }
 },
 "nbformat": 4,
 "nbformat_minor": 2
}
