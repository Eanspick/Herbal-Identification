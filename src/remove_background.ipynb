{
 "cells": [
  {
   "cell_type": "code",
   "execution_count": 1,
   "metadata": {},
   "outputs": [],
   "source": [
    "%load_ext autoreload\n",
    "%autoreload 2"
   ]
  },
  {
   "cell_type": "code",
   "execution_count": 2,
   "metadata": {},
   "outputs": [],
   "source": [
    "import multiprocessing as mp\n",
    "from itertools import repeat\n",
    "\n",
    "from modules.dataset import DATASET_AUGMENTED_DIR\n",
    "from modules.preprocess import preprocess_file"
   ]
  },
  {
   "cell_type": "code",
   "execution_count": 3,
   "metadata": {},
   "outputs": [],
   "source": [
    "for plant_class in DATASET_AUGMENTED_DIR.glob(\"*\"):\n",
    "    plant_name = plant_class.name\n",
    "    with mp.Pool() as pool:\n",
    "        results = pool.starmap(\n",
    "            preprocess_file,\n",
    "            zip(repeat(plant_name), plant_class.glob(\"*\")),\n",
    "            chunksize=1,\n",
    "        )"
   ]
  }
 ],
 "metadata": {
  "kernelspec": {
   "display_name": ".venv",
   "language": "python",
   "name": "python3"
  },
  "language_info": {
   "codemirror_mode": {
    "name": "ipython",
    "version": 3
   },
   "file_extension": ".py",
   "mimetype": "text/x-python",
   "name": "python",
   "nbconvert_exporter": "python",
   "pygments_lexer": "ipython3",
   "version": "3.12.3"
  }
 },
 "nbformat": 4,
 "nbformat_minor": 2
}
